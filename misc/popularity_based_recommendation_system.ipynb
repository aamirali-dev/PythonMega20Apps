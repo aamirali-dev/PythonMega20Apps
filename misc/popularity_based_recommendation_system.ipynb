{
 "cells": [
  {
   "cell_type": "code",
   "execution_count": 1,
   "metadata": {
    "collapsed": true,
    "ExecuteTime": {
     "end_time": "2023-08-15T05:31:00.384517700Z",
     "start_time": "2023-08-15T05:31:00.379017100Z"
    }
   },
   "outputs": [],
   "source": [
    "### Popularity Based Filtering"
   ]
  },
  {
   "cell_type": "code",
   "execution_count": 2,
   "outputs": [],
   "source": [
    "import pandas as pd"
   ],
   "metadata": {
    "collapsed": false,
    "ExecuteTime": {
     "end_time": "2023-08-15T05:32:20.148453300Z",
     "start_time": "2023-08-15T05:32:18.565985900Z"
    }
   }
  },
  {
   "cell_type": "code",
   "execution_count": 3,
   "outputs": [],
   "source": [
    "movies = pd.read_csv('movies.csv')\n",
    "credits = pd.read_csv('credits.csv')\n",
    "ratings = pd.read_csv('ratings.csv')"
   ],
   "metadata": {
    "collapsed": false,
    "ExecuteTime": {
     "end_time": "2023-08-15T05:33:02.384059700Z",
     "start_time": "2023-08-15T05:33:01.953546800Z"
    }
   }
  },
  {
   "cell_type": "code",
   "execution_count": 4,
   "outputs": [
    {
     "data": {
      "text/plain": "      budget                                             genres  \\\n0  237000000  [{\"id\": 28, \"name\": \"Action\"}, {\"id\": 12, \"nam...   \n1  300000000  [{\"id\": 12, \"name\": \"Adventure\"}, {\"id\": 14, \"...   \n2  245000000  [{\"id\": 28, \"name\": \"Action\"}, {\"id\": 12, \"nam...   \n3  250000000  [{\"id\": 28, \"name\": \"Action\"}, {\"id\": 80, \"nam...   \n4  260000000  [{\"id\": 28, \"name\": \"Action\"}, {\"id\": 12, \"nam...   \n5  258000000  [{\"id\": 14, \"name\": \"Fantasy\"}, {\"id\": 28, \"na...   \n6  260000000  [{\"id\": 16, \"name\": \"Animation\"}, {\"id\": 10751...   \n7  280000000  [{\"id\": 28, \"name\": \"Action\"}, {\"id\": 12, \"nam...   \n8  250000000  [{\"id\": 12, \"name\": \"Adventure\"}, {\"id\": 14, \"...   \n9  250000000  [{\"id\": 28, \"name\": \"Action\"}, {\"id\": 12, \"nam...   \n\n                                            homepage      id  \\\n0                        http://www.avatarmovie.com/   19995   \n1       http://disney.go.com/disneypictures/pirates/     285   \n2        http://www.sonypictures.com/movies/spectre/  206647   \n3                 http://www.thedarkknightrises.com/   49026   \n4               http://movies.disney.com/john-carter   49529   \n5    http://www.sonypictures.com/movies/spider-man3/     559   \n6       http://disney.go.com/disneypictures/tangled/   38757   \n7  http://marvel.com/movies/movie/193/avengers_ag...   99861   \n8  http://harrypotter.warnerbros.com/harrypottera...     767   \n9       http://www.batmanvsupermandawnofjustice.com/  209112   \n\n                                            keywords original_language  \\\n0  [{\"id\": 1463, \"name\": \"culture clash\"}, {\"id\":...                en   \n1  [{\"id\": 270, \"name\": \"ocean\"}, {\"id\": 726, \"na...                en   \n2  [{\"id\": 470, \"name\": \"spy\"}, {\"id\": 818, \"name...                en   \n3  [{\"id\": 849, \"name\": \"dc comics\"}, {\"id\": 853,...                en   \n4  [{\"id\": 818, \"name\": \"based on novel\"}, {\"id\":...                en   \n5  [{\"id\": 851, \"name\": \"dual identity\"}, {\"id\": ...                en   \n6  [{\"id\": 1562, \"name\": \"hostage\"}, {\"id\": 2343,...                en   \n7  [{\"id\": 8828, \"name\": \"marvel comic\"}, {\"id\": ...                en   \n8  [{\"id\": 616, \"name\": \"witch\"}, {\"id\": 2343, \"n...                en   \n9  [{\"id\": 849, \"name\": \"dc comics\"}, {\"id\": 7002...                en   \n\n                             original_title  \\\n0                                    Avatar   \n1  Pirates of the Caribbean: At World's End   \n2                                   Spectre   \n3                     The Dark Knight Rises   \n4                               John Carter   \n5                              Spider-Man 3   \n6                                   Tangled   \n7                   Avengers: Age of Ultron   \n8    Harry Potter and the Half-Blood Prince   \n9        Batman v Superman: Dawn of Justice   \n\n                                            overview  popularity  \\\n0  In the 22nd century, a paraplegic Marine is di...  150.437577   \n1  Captain Barbossa, long believed to be dead, ha...  139.082615   \n2  A cryptic message from Bond’s past sends him o...  107.376788   \n3  Following the death of District Attorney Harve...  112.312950   \n4  John Carter is a war-weary, former military ca...   43.926995   \n5  The seemingly invincible Spider-Man goes up ag...  115.699814   \n6  When the kingdom's most wanted-and most charmi...   48.681969   \n7  When Tony Stark tries to jumpstart a dormant p...  134.279229   \n8  As Harry begins his sixth year at Hogwarts, he...   98.885637   \n9  Fearing the actions of a god-like Super Hero l...  155.790452   \n\n                                production_companies  \\\n0  [{\"name\": \"Ingenious Film Partners\", \"id\": 289...   \n1  [{\"name\": \"Walt Disney Pictures\", \"id\": 2}, {\"...   \n2  [{\"name\": \"Columbia Pictures\", \"id\": 5}, {\"nam...   \n3  [{\"name\": \"Legendary Pictures\", \"id\": 923}, {\"...   \n4        [{\"name\": \"Walt Disney Pictures\", \"id\": 2}]   \n5  [{\"name\": \"Columbia Pictures\", \"id\": 5}, {\"nam...   \n6  [{\"name\": \"Walt Disney Pictures\", \"id\": 2}, {\"...   \n7  [{\"name\": \"Marvel Studios\", \"id\": 420}, {\"name...   \n8  [{\"name\": \"Warner Bros.\", \"id\": 6194}, {\"name\"...   \n9  [{\"name\": \"DC Comics\", \"id\": 429}, {\"name\": \"A...   \n\n                                production_countries release_date     revenue  \\\n0  [{\"iso_3166_1\": \"US\", \"name\": \"United States o...   2009-12-10  2787965087   \n1  [{\"iso_3166_1\": \"US\", \"name\": \"United States o...   2007-05-19   961000000   \n2  [{\"iso_3166_1\": \"GB\", \"name\": \"United Kingdom\"...   2015-10-26   880674609   \n3  [{\"iso_3166_1\": \"US\", \"name\": \"United States o...   2012-07-16  1084939099   \n4  [{\"iso_3166_1\": \"US\", \"name\": \"United States o...   2012-03-07   284139100   \n5  [{\"iso_3166_1\": \"US\", \"name\": \"United States o...   2007-05-01   890871626   \n6  [{\"iso_3166_1\": \"US\", \"name\": \"United States o...   2010-11-24   591794936   \n7  [{\"iso_3166_1\": \"US\", \"name\": \"United States o...   2015-04-22  1405403694   \n8  [{\"iso_3166_1\": \"GB\", \"name\": \"United Kingdom\"...   2009-07-07   933959197   \n9  [{\"iso_3166_1\": \"US\", \"name\": \"United States o...   2016-03-23   873260194   \n\n   runtime                                   spoken_languages    status  \\\n0    162.0  [{\"iso_639_1\": \"en\", \"name\": \"English\"}, {\"iso...  Released   \n1    169.0           [{\"iso_639_1\": \"en\", \"name\": \"English\"}]  Released   \n2    148.0  [{\"iso_639_1\": \"fr\", \"name\": \"Fran\\u00e7ais\"},...  Released   \n3    165.0           [{\"iso_639_1\": \"en\", \"name\": \"English\"}]  Released   \n4    132.0           [{\"iso_639_1\": \"en\", \"name\": \"English\"}]  Released   \n5    139.0  [{\"iso_639_1\": \"en\", \"name\": \"English\"}, {\"iso...  Released   \n6    100.0           [{\"iso_639_1\": \"en\", \"name\": \"English\"}]  Released   \n7    141.0           [{\"iso_639_1\": \"en\", \"name\": \"English\"}]  Released   \n8    153.0           [{\"iso_639_1\": \"en\", \"name\": \"English\"}]  Released   \n9    151.0           [{\"iso_639_1\": \"en\", \"name\": \"English\"}]  Released   \n\n                                          tagline  \\\n0                     Enter the World of Pandora.   \n1  At the end of the world, the adventure begins.   \n2                           A Plan No One Escapes   \n3                                 The Legend Ends   \n4            Lost in our world, found in another.   \n5                              The battle within.   \n6        They're taking adventure to new lengths.   \n7                             A New Age Has Come.   \n8                           Dark Secrets Revealed   \n9                              Justice or revenge   \n\n                                      title  vote_average  vote_count  \n0                                    Avatar           7.2       11800  \n1  Pirates of the Caribbean: At World's End           6.9        4500  \n2                                   Spectre           6.3        4466  \n3                     The Dark Knight Rises           7.6        9106  \n4                               John Carter           6.1        2124  \n5                              Spider-Man 3           5.9        3576  \n6                                   Tangled           7.4        3330  \n7                   Avengers: Age of Ultron           7.3        6767  \n8    Harry Potter and the Half-Blood Prince           7.4        5293  \n9        Batman v Superman: Dawn of Justice           5.7        7004  ",
      "text/html": "<div>\n<style scoped>\n    .dataframe tbody tr th:only-of-type {\n        vertical-align: middle;\n    }\n\n    .dataframe tbody tr th {\n        vertical-align: top;\n    }\n\n    .dataframe thead th {\n        text-align: right;\n    }\n</style>\n<table border=\"1\" class=\"dataframe\">\n  <thead>\n    <tr style=\"text-align: right;\">\n      <th></th>\n      <th>budget</th>\n      <th>genres</th>\n      <th>homepage</th>\n      <th>id</th>\n      <th>keywords</th>\n      <th>original_language</th>\n      <th>original_title</th>\n      <th>overview</th>\n      <th>popularity</th>\n      <th>production_companies</th>\n      <th>production_countries</th>\n      <th>release_date</th>\n      <th>revenue</th>\n      <th>runtime</th>\n      <th>spoken_languages</th>\n      <th>status</th>\n      <th>tagline</th>\n      <th>title</th>\n      <th>vote_average</th>\n      <th>vote_count</th>\n    </tr>\n  </thead>\n  <tbody>\n    <tr>\n      <th>0</th>\n      <td>237000000</td>\n      <td>[{\"id\": 28, \"name\": \"Action\"}, {\"id\": 12, \"nam...</td>\n      <td>http://www.avatarmovie.com/</td>\n      <td>19995</td>\n      <td>[{\"id\": 1463, \"name\": \"culture clash\"}, {\"id\":...</td>\n      <td>en</td>\n      <td>Avatar</td>\n      <td>In the 22nd century, a paraplegic Marine is di...</td>\n      <td>150.437577</td>\n      <td>[{\"name\": \"Ingenious Film Partners\", \"id\": 289...</td>\n      <td>[{\"iso_3166_1\": \"US\", \"name\": \"United States o...</td>\n      <td>2009-12-10</td>\n      <td>2787965087</td>\n      <td>162.0</td>\n      <td>[{\"iso_639_1\": \"en\", \"name\": \"English\"}, {\"iso...</td>\n      <td>Released</td>\n      <td>Enter the World of Pandora.</td>\n      <td>Avatar</td>\n      <td>7.2</td>\n      <td>11800</td>\n    </tr>\n    <tr>\n      <th>1</th>\n      <td>300000000</td>\n      <td>[{\"id\": 12, \"name\": \"Adventure\"}, {\"id\": 14, \"...</td>\n      <td>http://disney.go.com/disneypictures/pirates/</td>\n      <td>285</td>\n      <td>[{\"id\": 270, \"name\": \"ocean\"}, {\"id\": 726, \"na...</td>\n      <td>en</td>\n      <td>Pirates of the Caribbean: At World's End</td>\n      <td>Captain Barbossa, long believed to be dead, ha...</td>\n      <td>139.082615</td>\n      <td>[{\"name\": \"Walt Disney Pictures\", \"id\": 2}, {\"...</td>\n      <td>[{\"iso_3166_1\": \"US\", \"name\": \"United States o...</td>\n      <td>2007-05-19</td>\n      <td>961000000</td>\n      <td>169.0</td>\n      <td>[{\"iso_639_1\": \"en\", \"name\": \"English\"}]</td>\n      <td>Released</td>\n      <td>At the end of the world, the adventure begins.</td>\n      <td>Pirates of the Caribbean: At World's End</td>\n      <td>6.9</td>\n      <td>4500</td>\n    </tr>\n    <tr>\n      <th>2</th>\n      <td>245000000</td>\n      <td>[{\"id\": 28, \"name\": \"Action\"}, {\"id\": 12, \"nam...</td>\n      <td>http://www.sonypictures.com/movies/spectre/</td>\n      <td>206647</td>\n      <td>[{\"id\": 470, \"name\": \"spy\"}, {\"id\": 818, \"name...</td>\n      <td>en</td>\n      <td>Spectre</td>\n      <td>A cryptic message from Bond’s past sends him o...</td>\n      <td>107.376788</td>\n      <td>[{\"name\": \"Columbia Pictures\", \"id\": 5}, {\"nam...</td>\n      <td>[{\"iso_3166_1\": \"GB\", \"name\": \"United Kingdom\"...</td>\n      <td>2015-10-26</td>\n      <td>880674609</td>\n      <td>148.0</td>\n      <td>[{\"iso_639_1\": \"fr\", \"name\": \"Fran\\u00e7ais\"},...</td>\n      <td>Released</td>\n      <td>A Plan No One Escapes</td>\n      <td>Spectre</td>\n      <td>6.3</td>\n      <td>4466</td>\n    </tr>\n    <tr>\n      <th>3</th>\n      <td>250000000</td>\n      <td>[{\"id\": 28, \"name\": \"Action\"}, {\"id\": 80, \"nam...</td>\n      <td>http://www.thedarkknightrises.com/</td>\n      <td>49026</td>\n      <td>[{\"id\": 849, \"name\": \"dc comics\"}, {\"id\": 853,...</td>\n      <td>en</td>\n      <td>The Dark Knight Rises</td>\n      <td>Following the death of District Attorney Harve...</td>\n      <td>112.312950</td>\n      <td>[{\"name\": \"Legendary Pictures\", \"id\": 923}, {\"...</td>\n      <td>[{\"iso_3166_1\": \"US\", \"name\": \"United States o...</td>\n      <td>2012-07-16</td>\n      <td>1084939099</td>\n      <td>165.0</td>\n      <td>[{\"iso_639_1\": \"en\", \"name\": \"English\"}]</td>\n      <td>Released</td>\n      <td>The Legend Ends</td>\n      <td>The Dark Knight Rises</td>\n      <td>7.6</td>\n      <td>9106</td>\n    </tr>\n    <tr>\n      <th>4</th>\n      <td>260000000</td>\n      <td>[{\"id\": 28, \"name\": \"Action\"}, {\"id\": 12, \"nam...</td>\n      <td>http://movies.disney.com/john-carter</td>\n      <td>49529</td>\n      <td>[{\"id\": 818, \"name\": \"based on novel\"}, {\"id\":...</td>\n      <td>en</td>\n      <td>John Carter</td>\n      <td>John Carter is a war-weary, former military ca...</td>\n      <td>43.926995</td>\n      <td>[{\"name\": \"Walt Disney Pictures\", \"id\": 2}]</td>\n      <td>[{\"iso_3166_1\": \"US\", \"name\": \"United States o...</td>\n      <td>2012-03-07</td>\n      <td>284139100</td>\n      <td>132.0</td>\n      <td>[{\"iso_639_1\": \"en\", \"name\": \"English\"}]</td>\n      <td>Released</td>\n      <td>Lost in our world, found in another.</td>\n      <td>John Carter</td>\n      <td>6.1</td>\n      <td>2124</td>\n    </tr>\n    <tr>\n      <th>5</th>\n      <td>258000000</td>\n      <td>[{\"id\": 14, \"name\": \"Fantasy\"}, {\"id\": 28, \"na...</td>\n      <td>http://www.sonypictures.com/movies/spider-man3/</td>\n      <td>559</td>\n      <td>[{\"id\": 851, \"name\": \"dual identity\"}, {\"id\": ...</td>\n      <td>en</td>\n      <td>Spider-Man 3</td>\n      <td>The seemingly invincible Spider-Man goes up ag...</td>\n      <td>115.699814</td>\n      <td>[{\"name\": \"Columbia Pictures\", \"id\": 5}, {\"nam...</td>\n      <td>[{\"iso_3166_1\": \"US\", \"name\": \"United States o...</td>\n      <td>2007-05-01</td>\n      <td>890871626</td>\n      <td>139.0</td>\n      <td>[{\"iso_639_1\": \"en\", \"name\": \"English\"}, {\"iso...</td>\n      <td>Released</td>\n      <td>The battle within.</td>\n      <td>Spider-Man 3</td>\n      <td>5.9</td>\n      <td>3576</td>\n    </tr>\n    <tr>\n      <th>6</th>\n      <td>260000000</td>\n      <td>[{\"id\": 16, \"name\": \"Animation\"}, {\"id\": 10751...</td>\n      <td>http://disney.go.com/disneypictures/tangled/</td>\n      <td>38757</td>\n      <td>[{\"id\": 1562, \"name\": \"hostage\"}, {\"id\": 2343,...</td>\n      <td>en</td>\n      <td>Tangled</td>\n      <td>When the kingdom's most wanted-and most charmi...</td>\n      <td>48.681969</td>\n      <td>[{\"name\": \"Walt Disney Pictures\", \"id\": 2}, {\"...</td>\n      <td>[{\"iso_3166_1\": \"US\", \"name\": \"United States o...</td>\n      <td>2010-11-24</td>\n      <td>591794936</td>\n      <td>100.0</td>\n      <td>[{\"iso_639_1\": \"en\", \"name\": \"English\"}]</td>\n      <td>Released</td>\n      <td>They're taking adventure to new lengths.</td>\n      <td>Tangled</td>\n      <td>7.4</td>\n      <td>3330</td>\n    </tr>\n    <tr>\n      <th>7</th>\n      <td>280000000</td>\n      <td>[{\"id\": 28, \"name\": \"Action\"}, {\"id\": 12, \"nam...</td>\n      <td>http://marvel.com/movies/movie/193/avengers_ag...</td>\n      <td>99861</td>\n      <td>[{\"id\": 8828, \"name\": \"marvel comic\"}, {\"id\": ...</td>\n      <td>en</td>\n      <td>Avengers: Age of Ultron</td>\n      <td>When Tony Stark tries to jumpstart a dormant p...</td>\n      <td>134.279229</td>\n      <td>[{\"name\": \"Marvel Studios\", \"id\": 420}, {\"name...</td>\n      <td>[{\"iso_3166_1\": \"US\", \"name\": \"United States o...</td>\n      <td>2015-04-22</td>\n      <td>1405403694</td>\n      <td>141.0</td>\n      <td>[{\"iso_639_1\": \"en\", \"name\": \"English\"}]</td>\n      <td>Released</td>\n      <td>A New Age Has Come.</td>\n      <td>Avengers: Age of Ultron</td>\n      <td>7.3</td>\n      <td>6767</td>\n    </tr>\n    <tr>\n      <th>8</th>\n      <td>250000000</td>\n      <td>[{\"id\": 12, \"name\": \"Adventure\"}, {\"id\": 14, \"...</td>\n      <td>http://harrypotter.warnerbros.com/harrypottera...</td>\n      <td>767</td>\n      <td>[{\"id\": 616, \"name\": \"witch\"}, {\"id\": 2343, \"n...</td>\n      <td>en</td>\n      <td>Harry Potter and the Half-Blood Prince</td>\n      <td>As Harry begins his sixth year at Hogwarts, he...</td>\n      <td>98.885637</td>\n      <td>[{\"name\": \"Warner Bros.\", \"id\": 6194}, {\"name\"...</td>\n      <td>[{\"iso_3166_1\": \"GB\", \"name\": \"United Kingdom\"...</td>\n      <td>2009-07-07</td>\n      <td>933959197</td>\n      <td>153.0</td>\n      <td>[{\"iso_639_1\": \"en\", \"name\": \"English\"}]</td>\n      <td>Released</td>\n      <td>Dark Secrets Revealed</td>\n      <td>Harry Potter and the Half-Blood Prince</td>\n      <td>7.4</td>\n      <td>5293</td>\n    </tr>\n    <tr>\n      <th>9</th>\n      <td>250000000</td>\n      <td>[{\"id\": 28, \"name\": \"Action\"}, {\"id\": 12, \"nam...</td>\n      <td>http://www.batmanvsupermandawnofjustice.com/</td>\n      <td>209112</td>\n      <td>[{\"id\": 849, \"name\": \"dc comics\"}, {\"id\": 7002...</td>\n      <td>en</td>\n      <td>Batman v Superman: Dawn of Justice</td>\n      <td>Fearing the actions of a god-like Super Hero l...</td>\n      <td>155.790452</td>\n      <td>[{\"name\": \"DC Comics\", \"id\": 429}, {\"name\": \"A...</td>\n      <td>[{\"iso_3166_1\": \"US\", \"name\": \"United States o...</td>\n      <td>2016-03-23</td>\n      <td>873260194</td>\n      <td>151.0</td>\n      <td>[{\"iso_639_1\": \"en\", \"name\": \"English\"}]</td>\n      <td>Released</td>\n      <td>Justice or revenge</td>\n      <td>Batman v Superman: Dawn of Justice</td>\n      <td>5.7</td>\n      <td>7004</td>\n    </tr>\n  </tbody>\n</table>\n</div>"
     },
     "execution_count": 4,
     "metadata": {},
     "output_type": "execute_result"
    }
   ],
   "source": [
    "movies.head(10)"
   ],
   "metadata": {
    "collapsed": false,
    "ExecuteTime": {
     "end_time": "2023-08-15T05:34:52.009363700Z",
     "start_time": "2023-08-15T05:34:51.987757800Z"
    }
   }
  },
  {
   "cell_type": "code",
   "execution_count": 5,
   "outputs": [
    {
     "data": {
      "text/plain": "   movie_id                                     title  \\\n0     19995                                    Avatar   \n1       285  Pirates of the Caribbean: At World's End   \n2    206647                                   Spectre   \n3     49026                     The Dark Knight Rises   \n4     49529                               John Carter   \n5       559                              Spider-Man 3   \n6     38757                                   Tangled   \n7     99861                   Avengers: Age of Ultron   \n8       767    Harry Potter and the Half-Blood Prince   \n9    209112        Batman v Superman: Dawn of Justice   \n\n                                                cast  \\\n0  [{\"cast_id\": 242, \"character\": \"Jake Sully\", \"...   \n1  [{\"cast_id\": 4, \"character\": \"Captain Jack Spa...   \n2  [{\"cast_id\": 1, \"character\": \"James Bond\", \"cr...   \n3  [{\"cast_id\": 2, \"character\": \"Bruce Wayne / Ba...   \n4  [{\"cast_id\": 5, \"character\": \"John Carter\", \"c...   \n5  [{\"cast_id\": 30, \"character\": \"Peter Parker / ...   \n6  [{\"cast_id\": 34, \"character\": \"Flynn Rider (vo...   \n7  [{\"cast_id\": 76, \"character\": \"Tony Stark / Ir...   \n8  [{\"cast_id\": 3, \"character\": \"Harry Potter\", \"...   \n9  [{\"cast_id\": 18, \"character\": \"Bruce Wayne / B...   \n\n                                                crew  \n0  [{\"credit_id\": \"52fe48009251416c750aca23\", \"de...  \n1  [{\"credit_id\": \"52fe4232c3a36847f800b579\", \"de...  \n2  [{\"credit_id\": \"54805967c3a36829b5002c41\", \"de...  \n3  [{\"credit_id\": \"52fe4781c3a36847f81398c3\", \"de...  \n4  [{\"credit_id\": \"52fe479ac3a36847f813eaa3\", \"de...  \n5  [{\"credit_id\": \"52fe4252c3a36847f80151a5\", \"de...  \n6  [{\"credit_id\": \"52fe46db9251416c91062101\", \"de...  \n7  [{\"credit_id\": \"55d5f7d4c3a3683e7e0016eb\", \"de...  \n8  [{\"credit_id\": \"52fe4273c3a36847f801fab1\", \"de...  \n9  [{\"credit_id\": \"553bf23692514135c8002886\", \"de...  ",
      "text/html": "<div>\n<style scoped>\n    .dataframe tbody tr th:only-of-type {\n        vertical-align: middle;\n    }\n\n    .dataframe tbody tr th {\n        vertical-align: top;\n    }\n\n    .dataframe thead th {\n        text-align: right;\n    }\n</style>\n<table border=\"1\" class=\"dataframe\">\n  <thead>\n    <tr style=\"text-align: right;\">\n      <th></th>\n      <th>movie_id</th>\n      <th>title</th>\n      <th>cast</th>\n      <th>crew</th>\n    </tr>\n  </thead>\n  <tbody>\n    <tr>\n      <th>0</th>\n      <td>19995</td>\n      <td>Avatar</td>\n      <td>[{\"cast_id\": 242, \"character\": \"Jake Sully\", \"...</td>\n      <td>[{\"credit_id\": \"52fe48009251416c750aca23\", \"de...</td>\n    </tr>\n    <tr>\n      <th>1</th>\n      <td>285</td>\n      <td>Pirates of the Caribbean: At World's End</td>\n      <td>[{\"cast_id\": 4, \"character\": \"Captain Jack Spa...</td>\n      <td>[{\"credit_id\": \"52fe4232c3a36847f800b579\", \"de...</td>\n    </tr>\n    <tr>\n      <th>2</th>\n      <td>206647</td>\n      <td>Spectre</td>\n      <td>[{\"cast_id\": 1, \"character\": \"James Bond\", \"cr...</td>\n      <td>[{\"credit_id\": \"54805967c3a36829b5002c41\", \"de...</td>\n    </tr>\n    <tr>\n      <th>3</th>\n      <td>49026</td>\n      <td>The Dark Knight Rises</td>\n      <td>[{\"cast_id\": 2, \"character\": \"Bruce Wayne / Ba...</td>\n      <td>[{\"credit_id\": \"52fe4781c3a36847f81398c3\", \"de...</td>\n    </tr>\n    <tr>\n      <th>4</th>\n      <td>49529</td>\n      <td>John Carter</td>\n      <td>[{\"cast_id\": 5, \"character\": \"John Carter\", \"c...</td>\n      <td>[{\"credit_id\": \"52fe479ac3a36847f813eaa3\", \"de...</td>\n    </tr>\n    <tr>\n      <th>5</th>\n      <td>559</td>\n      <td>Spider-Man 3</td>\n      <td>[{\"cast_id\": 30, \"character\": \"Peter Parker / ...</td>\n      <td>[{\"credit_id\": \"52fe4252c3a36847f80151a5\", \"de...</td>\n    </tr>\n    <tr>\n      <th>6</th>\n      <td>38757</td>\n      <td>Tangled</td>\n      <td>[{\"cast_id\": 34, \"character\": \"Flynn Rider (vo...</td>\n      <td>[{\"credit_id\": \"52fe46db9251416c91062101\", \"de...</td>\n    </tr>\n    <tr>\n      <th>7</th>\n      <td>99861</td>\n      <td>Avengers: Age of Ultron</td>\n      <td>[{\"cast_id\": 76, \"character\": \"Tony Stark / Ir...</td>\n      <td>[{\"credit_id\": \"55d5f7d4c3a3683e7e0016eb\", \"de...</td>\n    </tr>\n    <tr>\n      <th>8</th>\n      <td>767</td>\n      <td>Harry Potter and the Half-Blood Prince</td>\n      <td>[{\"cast_id\": 3, \"character\": \"Harry Potter\", \"...</td>\n      <td>[{\"credit_id\": \"52fe4273c3a36847f801fab1\", \"de...</td>\n    </tr>\n    <tr>\n      <th>9</th>\n      <td>209112</td>\n      <td>Batman v Superman: Dawn of Justice</td>\n      <td>[{\"cast_id\": 18, \"character\": \"Bruce Wayne / B...</td>\n      <td>[{\"credit_id\": \"553bf23692514135c8002886\", \"de...</td>\n    </tr>\n  </tbody>\n</table>\n</div>"
     },
     "execution_count": 5,
     "metadata": {},
     "output_type": "execute_result"
    }
   ],
   "source": [
    "credits.head(10)"
   ],
   "metadata": {
    "collapsed": false,
    "ExecuteTime": {
     "end_time": "2023-08-15T05:35:02.105760600Z",
     "start_time": "2023-08-15T05:35:02.074127300Z"
    }
   }
  },
  {
   "cell_type": "code",
   "execution_count": 6,
   "outputs": [
    {
     "data": {
      "text/plain": "   userId  movieId  rating   timestamp\n0       1       31     2.5  1260759144\n1       1     1029     3.0  1260759179\n2       1     1061     3.0  1260759182\n3       1     1129     2.0  1260759185\n4       1     1172     4.0  1260759205\n5       1     1263     2.0  1260759151\n6       1     1287     2.0  1260759187\n7       1     1293     2.0  1260759148\n8       1     1339     3.5  1260759125\n9       1     1343     2.0  1260759131",
      "text/html": "<div>\n<style scoped>\n    .dataframe tbody tr th:only-of-type {\n        vertical-align: middle;\n    }\n\n    .dataframe tbody tr th {\n        vertical-align: top;\n    }\n\n    .dataframe thead th {\n        text-align: right;\n    }\n</style>\n<table border=\"1\" class=\"dataframe\">\n  <thead>\n    <tr style=\"text-align: right;\">\n      <th></th>\n      <th>userId</th>\n      <th>movieId</th>\n      <th>rating</th>\n      <th>timestamp</th>\n    </tr>\n  </thead>\n  <tbody>\n    <tr>\n      <th>0</th>\n      <td>1</td>\n      <td>31</td>\n      <td>2.5</td>\n      <td>1260759144</td>\n    </tr>\n    <tr>\n      <th>1</th>\n      <td>1</td>\n      <td>1029</td>\n      <td>3.0</td>\n      <td>1260759179</td>\n    </tr>\n    <tr>\n      <th>2</th>\n      <td>1</td>\n      <td>1061</td>\n      <td>3.0</td>\n      <td>1260759182</td>\n    </tr>\n    <tr>\n      <th>3</th>\n      <td>1</td>\n      <td>1129</td>\n      <td>2.0</td>\n      <td>1260759185</td>\n    </tr>\n    <tr>\n      <th>4</th>\n      <td>1</td>\n      <td>1172</td>\n      <td>4.0</td>\n      <td>1260759205</td>\n    </tr>\n    <tr>\n      <th>5</th>\n      <td>1</td>\n      <td>1263</td>\n      <td>2.0</td>\n      <td>1260759151</td>\n    </tr>\n    <tr>\n      <th>6</th>\n      <td>1</td>\n      <td>1287</td>\n      <td>2.0</td>\n      <td>1260759187</td>\n    </tr>\n    <tr>\n      <th>7</th>\n      <td>1</td>\n      <td>1293</td>\n      <td>2.0</td>\n      <td>1260759148</td>\n    </tr>\n    <tr>\n      <th>8</th>\n      <td>1</td>\n      <td>1339</td>\n      <td>3.5</td>\n      <td>1260759125</td>\n    </tr>\n    <tr>\n      <th>9</th>\n      <td>1</td>\n      <td>1343</td>\n      <td>2.0</td>\n      <td>1260759131</td>\n    </tr>\n  </tbody>\n</table>\n</div>"
     },
     "execution_count": 6,
     "metadata": {},
     "output_type": "execute_result"
    }
   ],
   "source": [
    "ratings.head(10)"
   ],
   "metadata": {
    "collapsed": false,
    "ExecuteTime": {
     "end_time": "2023-08-15T05:35:09.757999200Z",
     "start_time": "2023-08-15T05:35:09.754Z"
    }
   }
  },
  {
   "cell_type": "code",
   "execution_count": 7,
   "outputs": [],
   "source": [
    "### Calculating weighted rating of movies\n",
    "### WR = (V / (V + m)) * R + ( m / (V + m)) * C\n",
    "# V - Number of votes for a movie\n",
    "# m - minimum number of votes required\n",
    "# R - average rating of the movie\n",
    "# C - average rating across all movies"
   ],
   "metadata": {
    "collapsed": false,
    "ExecuteTime": {
     "end_time": "2023-08-15T05:44:03.859945300Z",
     "start_time": "2023-08-15T05:44:03.854945Z"
    }
   }
  },
  {
   "cell_type": "code",
   "execution_count": 8,
   "outputs": [
    {
     "data": {
      "text/plain": "1838.4000000000015"
     },
     "execution_count": 8,
     "metadata": {},
     "output_type": "execute_result"
    }
   ],
   "source": [
    "# calculating m\n",
    "m = movies['vote_count'].quantile(0.9)\n",
    "m"
   ],
   "metadata": {
    "collapsed": false,
    "ExecuteTime": {
     "end_time": "2023-08-15T05:44:52.656189400Z",
     "start_time": "2023-08-15T05:44:52.652238500Z"
    }
   }
  },
  {
   "cell_type": "code",
   "execution_count": 11,
   "outputs": [
    {
     "data": {
      "text/plain": "6.092171559442016"
     },
     "execution_count": 11,
     "metadata": {},
     "output_type": "execute_result"
    }
   ],
   "source": [
    "# calculating C\n",
    "c = movies['vote_average'].mean()\n",
    "c"
   ],
   "metadata": {
    "collapsed": false,
    "ExecuteTime": {
     "end_time": "2023-08-15T05:47:24.566224700Z",
     "start_time": "2023-08-15T05:47:24.545320800Z"
    }
   }
  },
  {
   "cell_type": "code",
   "execution_count": 12,
   "outputs": [],
   "source": [
    "def weighted_rating(df, m=m, c=c):\n",
    "    r = df['vote_average']\n",
    "    v = df['vote_count']\n",
    "    wr = (v / (v + m) * r) + (m / (m + v) * c)\n",
    "    return wr"
   ],
   "metadata": {
    "collapsed": false,
    "ExecuteTime": {
     "end_time": "2023-08-15T05:50:42.184614600Z",
     "start_time": "2023-08-15T05:50:42.172124100Z"
    }
   }
  },
  {
   "cell_type": "code",
   "execution_count": 13,
   "outputs": [],
   "source": [
    "movies['weighted_rating'] = movies.apply(weighted_rating, axis=1)"
   ],
   "metadata": {
    "collapsed": false,
    "ExecuteTime": {
     "end_time": "2023-08-15T05:51:02.990035700Z",
     "start_time": "2023-08-15T05:51:02.964663100Z"
    }
   }
  },
  {
   "cell_type": "code",
   "execution_count": 14,
   "outputs": [
    {
     "data": {
      "text/plain": "      budget                                             genres  \\\n0  237000000  [{\"id\": 28, \"name\": \"Action\"}, {\"id\": 12, \"nam...   \n1  300000000  [{\"id\": 12, \"name\": \"Adventure\"}, {\"id\": 14, \"...   \n2  245000000  [{\"id\": 28, \"name\": \"Action\"}, {\"id\": 12, \"nam...   \n3  250000000  [{\"id\": 28, \"name\": \"Action\"}, {\"id\": 80, \"nam...   \n4  260000000  [{\"id\": 28, \"name\": \"Action\"}, {\"id\": 12, \"nam...   \n\n                                       homepage      id  \\\n0                   http://www.avatarmovie.com/   19995   \n1  http://disney.go.com/disneypictures/pirates/     285   \n2   http://www.sonypictures.com/movies/spectre/  206647   \n3            http://www.thedarkknightrises.com/   49026   \n4          http://movies.disney.com/john-carter   49529   \n\n                                            keywords original_language  \\\n0  [{\"id\": 1463, \"name\": \"culture clash\"}, {\"id\":...                en   \n1  [{\"id\": 270, \"name\": \"ocean\"}, {\"id\": 726, \"na...                en   \n2  [{\"id\": 470, \"name\": \"spy\"}, {\"id\": 818, \"name...                en   \n3  [{\"id\": 849, \"name\": \"dc comics\"}, {\"id\": 853,...                en   \n4  [{\"id\": 818, \"name\": \"based on novel\"}, {\"id\":...                en   \n\n                             original_title  \\\n0                                    Avatar   \n1  Pirates of the Caribbean: At World's End   \n2                                   Spectre   \n3                     The Dark Knight Rises   \n4                               John Carter   \n\n                                            overview  popularity  \\\n0  In the 22nd century, a paraplegic Marine is di...  150.437577   \n1  Captain Barbossa, long believed to be dead, ha...  139.082615   \n2  A cryptic message from Bond’s past sends him o...  107.376788   \n3  Following the death of District Attorney Harve...  112.312950   \n4  John Carter is a war-weary, former military ca...   43.926995   \n\n                                production_companies  ... release_date  \\\n0  [{\"name\": \"Ingenious Film Partners\", \"id\": 289...  ...   2009-12-10   \n1  [{\"name\": \"Walt Disney Pictures\", \"id\": 2}, {\"...  ...   2007-05-19   \n2  [{\"name\": \"Columbia Pictures\", \"id\": 5}, {\"nam...  ...   2015-10-26   \n3  [{\"name\": \"Legendary Pictures\", \"id\": 923}, {\"...  ...   2012-07-16   \n4        [{\"name\": \"Walt Disney Pictures\", \"id\": 2}]  ...   2012-03-07   \n\n      revenue  runtime                                   spoken_languages  \\\n0  2787965087    162.0  [{\"iso_639_1\": \"en\", \"name\": \"English\"}, {\"iso...   \n1   961000000    169.0           [{\"iso_639_1\": \"en\", \"name\": \"English\"}]   \n2   880674609    148.0  [{\"iso_639_1\": \"fr\", \"name\": \"Fran\\u00e7ais\"},...   \n3  1084939099    165.0           [{\"iso_639_1\": \"en\", \"name\": \"English\"}]   \n4   284139100    132.0           [{\"iso_639_1\": \"en\", \"name\": \"English\"}]   \n\n     status                                         tagline  \\\n0  Released                     Enter the World of Pandora.   \n1  Released  At the end of the world, the adventure begins.   \n2  Released                           A Plan No One Escapes   \n3  Released                                 The Legend Ends   \n4  Released            Lost in our world, found in another.   \n\n                                      title vote_average  vote_count  \\\n0                                    Avatar          7.2       11800   \n1  Pirates of the Caribbean: At World's End          6.9        4500   \n2                                   Spectre          6.3        4466   \n3                     The Dark Knight Rises          7.6        9106   \n4                               John Carter          6.1        2124   \n\n   weighted_rating  \n0         7.050669  \n1         6.665696  \n2         6.239396  \n3         7.346721  \n4         6.096368  \n\n[5 rows x 21 columns]",
      "text/html": "<div>\n<style scoped>\n    .dataframe tbody tr th:only-of-type {\n        vertical-align: middle;\n    }\n\n    .dataframe tbody tr th {\n        vertical-align: top;\n    }\n\n    .dataframe thead th {\n        text-align: right;\n    }\n</style>\n<table border=\"1\" class=\"dataframe\">\n  <thead>\n    <tr style=\"text-align: right;\">\n      <th></th>\n      <th>budget</th>\n      <th>genres</th>\n      <th>homepage</th>\n      <th>id</th>\n      <th>keywords</th>\n      <th>original_language</th>\n      <th>original_title</th>\n      <th>overview</th>\n      <th>popularity</th>\n      <th>production_companies</th>\n      <th>...</th>\n      <th>release_date</th>\n      <th>revenue</th>\n      <th>runtime</th>\n      <th>spoken_languages</th>\n      <th>status</th>\n      <th>tagline</th>\n      <th>title</th>\n      <th>vote_average</th>\n      <th>vote_count</th>\n      <th>weighted_rating</th>\n    </tr>\n  </thead>\n  <tbody>\n    <tr>\n      <th>0</th>\n      <td>237000000</td>\n      <td>[{\"id\": 28, \"name\": \"Action\"}, {\"id\": 12, \"nam...</td>\n      <td>http://www.avatarmovie.com/</td>\n      <td>19995</td>\n      <td>[{\"id\": 1463, \"name\": \"culture clash\"}, {\"id\":...</td>\n      <td>en</td>\n      <td>Avatar</td>\n      <td>In the 22nd century, a paraplegic Marine is di...</td>\n      <td>150.437577</td>\n      <td>[{\"name\": \"Ingenious Film Partners\", \"id\": 289...</td>\n      <td>...</td>\n      <td>2009-12-10</td>\n      <td>2787965087</td>\n      <td>162.0</td>\n      <td>[{\"iso_639_1\": \"en\", \"name\": \"English\"}, {\"iso...</td>\n      <td>Released</td>\n      <td>Enter the World of Pandora.</td>\n      <td>Avatar</td>\n      <td>7.2</td>\n      <td>11800</td>\n      <td>7.050669</td>\n    </tr>\n    <tr>\n      <th>1</th>\n      <td>300000000</td>\n      <td>[{\"id\": 12, \"name\": \"Adventure\"}, {\"id\": 14, \"...</td>\n      <td>http://disney.go.com/disneypictures/pirates/</td>\n      <td>285</td>\n      <td>[{\"id\": 270, \"name\": \"ocean\"}, {\"id\": 726, \"na...</td>\n      <td>en</td>\n      <td>Pirates of the Caribbean: At World's End</td>\n      <td>Captain Barbossa, long believed to be dead, ha...</td>\n      <td>139.082615</td>\n      <td>[{\"name\": \"Walt Disney Pictures\", \"id\": 2}, {\"...</td>\n      <td>...</td>\n      <td>2007-05-19</td>\n      <td>961000000</td>\n      <td>169.0</td>\n      <td>[{\"iso_639_1\": \"en\", \"name\": \"English\"}]</td>\n      <td>Released</td>\n      <td>At the end of the world, the adventure begins.</td>\n      <td>Pirates of the Caribbean: At World's End</td>\n      <td>6.9</td>\n      <td>4500</td>\n      <td>6.665696</td>\n    </tr>\n    <tr>\n      <th>2</th>\n      <td>245000000</td>\n      <td>[{\"id\": 28, \"name\": \"Action\"}, {\"id\": 12, \"nam...</td>\n      <td>http://www.sonypictures.com/movies/spectre/</td>\n      <td>206647</td>\n      <td>[{\"id\": 470, \"name\": \"spy\"}, {\"id\": 818, \"name...</td>\n      <td>en</td>\n      <td>Spectre</td>\n      <td>A cryptic message from Bond’s past sends him o...</td>\n      <td>107.376788</td>\n      <td>[{\"name\": \"Columbia Pictures\", \"id\": 5}, {\"nam...</td>\n      <td>...</td>\n      <td>2015-10-26</td>\n      <td>880674609</td>\n      <td>148.0</td>\n      <td>[{\"iso_639_1\": \"fr\", \"name\": \"Fran\\u00e7ais\"},...</td>\n      <td>Released</td>\n      <td>A Plan No One Escapes</td>\n      <td>Spectre</td>\n      <td>6.3</td>\n      <td>4466</td>\n      <td>6.239396</td>\n    </tr>\n    <tr>\n      <th>3</th>\n      <td>250000000</td>\n      <td>[{\"id\": 28, \"name\": \"Action\"}, {\"id\": 80, \"nam...</td>\n      <td>http://www.thedarkknightrises.com/</td>\n      <td>49026</td>\n      <td>[{\"id\": 849, \"name\": \"dc comics\"}, {\"id\": 853,...</td>\n      <td>en</td>\n      <td>The Dark Knight Rises</td>\n      <td>Following the death of District Attorney Harve...</td>\n      <td>112.312950</td>\n      <td>[{\"name\": \"Legendary Pictures\", \"id\": 923}, {\"...</td>\n      <td>...</td>\n      <td>2012-07-16</td>\n      <td>1084939099</td>\n      <td>165.0</td>\n      <td>[{\"iso_639_1\": \"en\", \"name\": \"English\"}]</td>\n      <td>Released</td>\n      <td>The Legend Ends</td>\n      <td>The Dark Knight Rises</td>\n      <td>7.6</td>\n      <td>9106</td>\n      <td>7.346721</td>\n    </tr>\n    <tr>\n      <th>4</th>\n      <td>260000000</td>\n      <td>[{\"id\": 28, \"name\": \"Action\"}, {\"id\": 12, \"nam...</td>\n      <td>http://movies.disney.com/john-carter</td>\n      <td>49529</td>\n      <td>[{\"id\": 818, \"name\": \"based on novel\"}, {\"id\":...</td>\n      <td>en</td>\n      <td>John Carter</td>\n      <td>John Carter is a war-weary, former military ca...</td>\n      <td>43.926995</td>\n      <td>[{\"name\": \"Walt Disney Pictures\", \"id\": 2}]</td>\n      <td>...</td>\n      <td>2012-03-07</td>\n      <td>284139100</td>\n      <td>132.0</td>\n      <td>[{\"iso_639_1\": \"en\", \"name\": \"English\"}]</td>\n      <td>Released</td>\n      <td>Lost in our world, found in another.</td>\n      <td>John Carter</td>\n      <td>6.1</td>\n      <td>2124</td>\n      <td>6.096368</td>\n    </tr>\n  </tbody>\n</table>\n<p>5 rows × 21 columns</p>\n</div>"
     },
     "execution_count": 14,
     "metadata": {},
     "output_type": "execute_result"
    }
   ],
   "source": [
    "movies.head()"
   ],
   "metadata": {
    "collapsed": false,
    "ExecuteTime": {
     "end_time": "2023-08-15T05:51:25.707824800Z",
     "start_time": "2023-08-15T05:51:25.696638Z"
    }
   }
  },
  {
   "cell_type": "code",
   "execution_count": 15,
   "outputs": [
    {
     "data": {
      "text/plain": "         budget                                             genres  \\\n1881   25000000  [{\"id\": 18, \"name\": \"Drama\"}, {\"id\": 80, \"name...   \n662    63000000                      [{\"id\": 18, \"name\": \"Drama\"}]   \n65    185000000  [{\"id\": 18, \"name\": \"Drama\"}, {\"id\": 28, \"name...   \n3232    8000000  [{\"id\": 53, \"name\": \"Thriller\"}, {\"id\": 80, \"n...   \n96    160000000  [{\"id\": 28, \"name\": \"Action\"}, {\"id\": 53, \"nam...   \n\n                                          homepage     id  \\\n1881                                           NaN    278   \n662     http://www.foxmovies.com/movies/fight-club    550   \n65    http://thedarkknight.warnerbros.com/dvdsite/    155   \n3232                                           NaN    680   \n96           http://inceptionmovie.warnerbros.com/  27205   \n\n                                               keywords original_language  \\\n1881  [{\"id\": 378, \"name\": \"prison\"}, {\"id\": 417, \"n...                en   \n662   [{\"id\": 825, \"name\": \"support group\"}, {\"id\": ...                en   \n65    [{\"id\": 849, \"name\": \"dc comics\"}, {\"id\": 853,...                en   \n3232  [{\"id\": 396, \"name\": \"transporter\"}, {\"id\": 14...                en   \n96    [{\"id\": 1014, \"name\": \"loss of lover\"}, {\"id\":...                en   \n\n                original_title  \\\n1881  The Shawshank Redemption   \n662                 Fight Club   \n65             The Dark Knight   \n3232              Pulp Fiction   \n96                   Inception   \n\n                                               overview  popularity  \\\n1881  Framed in the 1940s for the double murder of h...  136.747729   \n662   A ticking-time-bomb insomniac and a slippery s...  146.757391   \n65    Batman raises the stakes in his war on crime. ...  187.322927   \n3232  A burger-loving hit man, his philosophical par...  121.463076   \n96    Cobb, a skilled thief who commits corporate es...  167.583710   \n\n                                   production_companies  ... release_date  \\\n1881  [{\"name\": \"Castle Rock Entertainment\", \"id\": 97}]  ...   1994-09-23   \n662   [{\"name\": \"Regency Enterprises\", \"id\": 508}, {...  ...   1999-10-15   \n65    [{\"name\": \"DC Comics\", \"id\": 429}, {\"name\": \"L...  ...   2008-07-16   \n3232  [{\"name\": \"Miramax Films\", \"id\": 14}, {\"name\":...  ...   1994-10-08   \n96    [{\"name\": \"Legendary Pictures\", \"id\": 923}, {\"...  ...   2010-07-14   \n\n         revenue  runtime                                   spoken_languages  \\\n1881    28341469    142.0           [{\"iso_639_1\": \"en\", \"name\": \"English\"}]   \n662    100853753    139.0           [{\"iso_639_1\": \"en\", \"name\": \"English\"}]   \n65    1004558444    152.0  [{\"iso_639_1\": \"en\", \"name\": \"English\"}, {\"iso...   \n3232   213928762    154.0  [{\"iso_639_1\": \"en\", \"name\": \"English\"}, {\"iso...   \n96     825532764    148.0  [{\"iso_639_1\": \"en\", \"name\": \"English\"}, {\"iso...   \n\n        status                                            tagline  \\\n1881  Released  Fear can hold you prisoner. Hope can set you f...   \n662   Released                            Mischief. Mayhem. Soap.   \n65    Released                                    Why So Serious?   \n3232  Released  Just because you are a character doesn't mean ...   \n96    Released               Your mind is the scene of the crime.   \n\n                         title vote_average  vote_count  weighted_rating  \n1881  The Shawshank Redemption          8.5        8205         8.059258  \n662                 Fight Club          8.3        9413         7.939256  \n65             The Dark Knight          8.2       12002         7.920020  \n3232              Pulp Fiction          8.3        8428         7.904645  \n96                   Inception          8.1       13752         7.863239  \n\n[5 rows x 21 columns]",
      "text/html": "<div>\n<style scoped>\n    .dataframe tbody tr th:only-of-type {\n        vertical-align: middle;\n    }\n\n    .dataframe tbody tr th {\n        vertical-align: top;\n    }\n\n    .dataframe thead th {\n        text-align: right;\n    }\n</style>\n<table border=\"1\" class=\"dataframe\">\n  <thead>\n    <tr style=\"text-align: right;\">\n      <th></th>\n      <th>budget</th>\n      <th>genres</th>\n      <th>homepage</th>\n      <th>id</th>\n      <th>keywords</th>\n      <th>original_language</th>\n      <th>original_title</th>\n      <th>overview</th>\n      <th>popularity</th>\n      <th>production_companies</th>\n      <th>...</th>\n      <th>release_date</th>\n      <th>revenue</th>\n      <th>runtime</th>\n      <th>spoken_languages</th>\n      <th>status</th>\n      <th>tagline</th>\n      <th>title</th>\n      <th>vote_average</th>\n      <th>vote_count</th>\n      <th>weighted_rating</th>\n    </tr>\n  </thead>\n  <tbody>\n    <tr>\n      <th>1881</th>\n      <td>25000000</td>\n      <td>[{\"id\": 18, \"name\": \"Drama\"}, {\"id\": 80, \"name...</td>\n      <td>NaN</td>\n      <td>278</td>\n      <td>[{\"id\": 378, \"name\": \"prison\"}, {\"id\": 417, \"n...</td>\n      <td>en</td>\n      <td>The Shawshank Redemption</td>\n      <td>Framed in the 1940s for the double murder of h...</td>\n      <td>136.747729</td>\n      <td>[{\"name\": \"Castle Rock Entertainment\", \"id\": 97}]</td>\n      <td>...</td>\n      <td>1994-09-23</td>\n      <td>28341469</td>\n      <td>142.0</td>\n      <td>[{\"iso_639_1\": \"en\", \"name\": \"English\"}]</td>\n      <td>Released</td>\n      <td>Fear can hold you prisoner. Hope can set you f...</td>\n      <td>The Shawshank Redemption</td>\n      <td>8.5</td>\n      <td>8205</td>\n      <td>8.059258</td>\n    </tr>\n    <tr>\n      <th>662</th>\n      <td>63000000</td>\n      <td>[{\"id\": 18, \"name\": \"Drama\"}]</td>\n      <td>http://www.foxmovies.com/movies/fight-club</td>\n      <td>550</td>\n      <td>[{\"id\": 825, \"name\": \"support group\"}, {\"id\": ...</td>\n      <td>en</td>\n      <td>Fight Club</td>\n      <td>A ticking-time-bomb insomniac and a slippery s...</td>\n      <td>146.757391</td>\n      <td>[{\"name\": \"Regency Enterprises\", \"id\": 508}, {...</td>\n      <td>...</td>\n      <td>1999-10-15</td>\n      <td>100853753</td>\n      <td>139.0</td>\n      <td>[{\"iso_639_1\": \"en\", \"name\": \"English\"}]</td>\n      <td>Released</td>\n      <td>Mischief. Mayhem. Soap.</td>\n      <td>Fight Club</td>\n      <td>8.3</td>\n      <td>9413</td>\n      <td>7.939256</td>\n    </tr>\n    <tr>\n      <th>65</th>\n      <td>185000000</td>\n      <td>[{\"id\": 18, \"name\": \"Drama\"}, {\"id\": 28, \"name...</td>\n      <td>http://thedarkknight.warnerbros.com/dvdsite/</td>\n      <td>155</td>\n      <td>[{\"id\": 849, \"name\": \"dc comics\"}, {\"id\": 853,...</td>\n      <td>en</td>\n      <td>The Dark Knight</td>\n      <td>Batman raises the stakes in his war on crime. ...</td>\n      <td>187.322927</td>\n      <td>[{\"name\": \"DC Comics\", \"id\": 429}, {\"name\": \"L...</td>\n      <td>...</td>\n      <td>2008-07-16</td>\n      <td>1004558444</td>\n      <td>152.0</td>\n      <td>[{\"iso_639_1\": \"en\", \"name\": \"English\"}, {\"iso...</td>\n      <td>Released</td>\n      <td>Why So Serious?</td>\n      <td>The Dark Knight</td>\n      <td>8.2</td>\n      <td>12002</td>\n      <td>7.920020</td>\n    </tr>\n    <tr>\n      <th>3232</th>\n      <td>8000000</td>\n      <td>[{\"id\": 53, \"name\": \"Thriller\"}, {\"id\": 80, \"n...</td>\n      <td>NaN</td>\n      <td>680</td>\n      <td>[{\"id\": 396, \"name\": \"transporter\"}, {\"id\": 14...</td>\n      <td>en</td>\n      <td>Pulp Fiction</td>\n      <td>A burger-loving hit man, his philosophical par...</td>\n      <td>121.463076</td>\n      <td>[{\"name\": \"Miramax Films\", \"id\": 14}, {\"name\":...</td>\n      <td>...</td>\n      <td>1994-10-08</td>\n      <td>213928762</td>\n      <td>154.0</td>\n      <td>[{\"iso_639_1\": \"en\", \"name\": \"English\"}, {\"iso...</td>\n      <td>Released</td>\n      <td>Just because you are a character doesn't mean ...</td>\n      <td>Pulp Fiction</td>\n      <td>8.3</td>\n      <td>8428</td>\n      <td>7.904645</td>\n    </tr>\n    <tr>\n      <th>96</th>\n      <td>160000000</td>\n      <td>[{\"id\": 28, \"name\": \"Action\"}, {\"id\": 53, \"nam...</td>\n      <td>http://inceptionmovie.warnerbros.com/</td>\n      <td>27205</td>\n      <td>[{\"id\": 1014, \"name\": \"loss of lover\"}, {\"id\":...</td>\n      <td>en</td>\n      <td>Inception</td>\n      <td>Cobb, a skilled thief who commits corporate es...</td>\n      <td>167.583710</td>\n      <td>[{\"name\": \"Legendary Pictures\", \"id\": 923}, {\"...</td>\n      <td>...</td>\n      <td>2010-07-14</td>\n      <td>825532764</td>\n      <td>148.0</td>\n      <td>[{\"iso_639_1\": \"en\", \"name\": \"English\"}, {\"iso...</td>\n      <td>Released</td>\n      <td>Your mind is the scene of the crime.</td>\n      <td>Inception</td>\n      <td>8.1</td>\n      <td>13752</td>\n      <td>7.863239</td>\n    </tr>\n  </tbody>\n</table>\n<p>5 rows × 21 columns</p>\n</div>"
     },
     "execution_count": 15,
     "metadata": {},
     "output_type": "execute_result"
    }
   ],
   "source": [
    "movies.sort_values('weighted_rating', ascending=False).head()"
   ],
   "metadata": {
    "collapsed": false,
    "ExecuteTime": {
     "end_time": "2023-08-15T05:53:49.815730500Z",
     "start_time": "2023-08-15T05:53:49.799738800Z"
    }
   }
  },
  {
   "cell_type": "code",
   "execution_count": 16,
   "outputs": [],
   "source": [
    "# top 10 movies are the recommended movies based on popularity"
   ],
   "metadata": {
    "collapsed": false,
    "ExecuteTime": {
     "end_time": "2023-08-15T05:59:56.877536500Z",
     "start_time": "2023-08-15T05:59:56.873496300Z"
    }
   }
  },
  {
   "cell_type": "code",
   "execution_count": null,
   "outputs": [],
   "source": [],
   "metadata": {
    "collapsed": false
   }
  }
 ],
 "metadata": {
  "kernelspec": {
   "display_name": "Python 3",
   "language": "python",
   "name": "python3"
  },
  "language_info": {
   "codemirror_mode": {
    "name": "ipython",
    "version": 2
   },
   "file_extension": ".py",
   "mimetype": "text/x-python",
   "name": "python",
   "nbconvert_exporter": "python",
   "pygments_lexer": "ipython2",
   "version": "2.7.6"
  }
 },
 "nbformat": 4,
 "nbformat_minor": 0
}
